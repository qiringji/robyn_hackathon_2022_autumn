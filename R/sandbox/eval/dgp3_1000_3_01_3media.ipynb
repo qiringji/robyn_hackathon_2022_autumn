{
 "cells": [
  {
   "cell_type": "markdown",
   "id": "simple-branch",
   "metadata": {},
   "source": [
    "3media: Facebook, TV, Search"
   ]
  },
  {
   "cell_type": "markdown",
   "id": "transparent-press",
   "metadata": {},
   "source": [
    "iterations = 1,000  \n",
    "trials = 3  \n",
    "calibration_constraint = 0.1  "
   ]
  },
  {
   "cell_type": "code",
   "execution_count": 123,
   "id": "controlling-proportion",
   "metadata": {},
   "outputs": [],
   "source": [
    "import os\n",
    "import json\n",
    "from glob import glob\n",
    "\n",
    "import pandas as pd\n",
    "import numpy as np\n",
    "import seaborn as sns\n",
    "import matplotlib.pyplot as plt"
   ]
  },
  {
   "cell_type": "code",
   "execution_count": 124,
   "id": "recognized-waters",
   "metadata": {},
   "outputs": [],
   "source": [
    "# Set variables.\n",
    "dpg_name = \"dgp3_1000_3_01_3media\"\n",
    "root_dir = f\"/Users/s11616/Desktop/{dpg_name}\""
   ]
  },
  {
   "cell_type": "code",
   "execution_count": 125,
   "id": "appropriate-theorem",
   "metadata": {},
   "outputs": [],
   "source": [
    "rows = []\n",
    "for exp_name in os.listdir(root_dir):\n",
    "    jsonfile_paths = glob(os.path.join(root_dir, exp_name, '*.json'))\n",
    "    \n",
    "    for jsonfile_path in jsonfile_paths:\n",
    "        \n",
    "        jsonfile_name = jsonfile_path.split('/')[-1]\n",
    "        if jsonfile_name == 'RobynModel-inputs.json':\n",
    "            continue\n",
    "        \n",
    "        with open(jsonfile_path) as f:\n",
    "            dic = json.load(f)\n",
    "        \n",
    "        for i, vals in enumerate(dic['ExportedModel']['summary']):\n",
    "            if vals['variable'] in ['(Intercept)', 'trend', 'season', 'holiday'] :\n",
    "                continue\n",
    "            \n",
    "            rows.append([exp_name, jsonfile_name, vals['variable'].split('_')[-1], vals['performance']])"
   ]
  },
  {
   "cell_type": "code",
   "execution_count": 126,
   "id": "executed-armenia",
   "metadata": {},
   "outputs": [],
   "source": [
    "df = pd.DataFrame(rows)\n",
    "df.columns = ['EXP_NAME', 'FILENAME', 'MEDIA', 'PRED_ROI']\n",
    "\n",
    "df['DPG'] = dpg_name"
   ]
  },
  {
   "cell_type": "code",
   "execution_count": 127,
   "id": "understood-psychology",
   "metadata": {},
   "outputs": [],
   "source": [
    "df_true = pd.read_csv(os.path.join(root_dir, os.listdir(root_dir)[0], 'true_roi.csv'))"
   ]
  },
  {
   "cell_type": "code",
   "execution_count": 128,
   "id": "korean-great",
   "metadata": {},
   "outputs": [
    {
     "data": {
      "text/html": [
       "<div>\n",
       "<style scoped>\n",
       "    .dataframe tbody tr th:only-of-type {\n",
       "        vertical-align: middle;\n",
       "    }\n",
       "\n",
       "    .dataframe tbody tr th {\n",
       "        vertical-align: top;\n",
       "    }\n",
       "\n",
       "    .dataframe thead th {\n",
       "        text-align: right;\n",
       "    }\n",
       "</style>\n",
       "<table border=\"1\" class=\"dataframe\">\n",
       "  <thead>\n",
       "    <tr style=\"text-align: right;\">\n",
       "      <th></th>\n",
       "      <th>x</th>\n",
       "    </tr>\n",
       "  </thead>\n",
       "  <tbody>\n",
       "    <tr>\n",
       "      <th>0</th>\n",
       "      <td>roi of Facebook is: 2.88238320878217</td>\n",
       "    </tr>\n",
       "    <tr>\n",
       "      <th>1</th>\n",
       "      <td>roi of TV is: 0.830049784717038</td>\n",
       "    </tr>\n",
       "    <tr>\n",
       "      <th>2</th>\n",
       "      <td>roi of Search is: 0.00610569194515542</td>\n",
       "    </tr>\n",
       "  </tbody>\n",
       "</table>\n",
       "</div>"
      ],
      "text/plain": [
       "                                       x\n",
       "0   roi of Facebook is: 2.88238320878217\n",
       "1        roi of TV is: 0.830049784717038\n",
       "2  roi of Search is: 0.00610569194515542"
      ]
     },
     "execution_count": 128,
     "metadata": {},
     "output_type": "execute_result"
    }
   ],
   "source": [
    "df_true"
   ]
  },
  {
   "cell_type": "code",
   "execution_count": 129,
   "id": "italic-actress",
   "metadata": {},
   "outputs": [],
   "source": [
    "_df_true = pd.DataFrame({'MEDIA': ['Facebook', 'TV', 'Search'], 'TRUE_ROI': [float(x[0].split(': ')[1]) + 1 for x in df_true.values]})"
   ]
  },
  {
   "cell_type": "code",
   "execution_count": 130,
   "id": "closing-funds",
   "metadata": {},
   "outputs": [],
   "source": [
    "df = pd.merge(df, _df_true, on='MEDIA')"
   ]
  },
  {
   "cell_type": "code",
   "execution_count": 131,
   "id": "thirty-pontiac",
   "metadata": {},
   "outputs": [],
   "source": [
    "# Parse EXP_NAME.\n",
    "df['USE_PROPHET'] = df['EXP_NAME'].apply(lambda x: bool(x.split('_')[1])).astype(int)\n",
    "\n",
    "df['CALIBRATION_FACEBOOK'] = df['EXP_NAME'].str.contains('Facebook').astype(int)\n",
    "df['CALIBRATION_TV'] = df['EXP_NAME'].str.contains('TV').astype(int)\n",
    "df['CALIBRATION_SEARCH'] = df['EXP_NAME'].str.contains('Search').astype(int)"
   ]
  },
  {
   "cell_type": "code",
   "execution_count": 156,
   "id": "extraordinary-schema",
   "metadata": {},
   "outputs": [],
   "source": [
    "def get_segmentname(row):\n",
    "    cols = np.array(['Facebook', 'TV', 'Search'])\n",
    "    flag = np.array([row[f'CALIBRATION_{x.upper()}'] for x in cols])\n",
    "    if sum(flag) == 0:\n",
    "        return '0. None'\n",
    "    else:\n",
    "        x = sum(np.arange(1, 4) * flag)\n",
    "        return f'{x}. ' + '_'.join(cols[np.where(flag == 1)])"
   ]
  },
  {
   "cell_type": "code",
   "execution_count": null,
   "id": "psychological-norman",
   "metadata": {},
   "outputs": [],
   "source": []
  },
  {
   "cell_type": "code",
   "execution_count": 157,
   "id": "honest-father",
   "metadata": {},
   "outputs": [],
   "source": [
    "df['SEGMENT_NAME'] = df.apply(lambda row: get_segmentname(row), axis=1)"
   ]
  },
  {
   "cell_type": "code",
   "execution_count": 158,
   "id": "brave-ribbon",
   "metadata": {},
   "outputs": [
    {
     "data": {
      "text/html": [
       "<div>\n",
       "<style scoped>\n",
       "    .dataframe tbody tr th:only-of-type {\n",
       "        vertical-align: middle;\n",
       "    }\n",
       "\n",
       "    .dataframe tbody tr th {\n",
       "        vertical-align: top;\n",
       "    }\n",
       "\n",
       "    .dataframe thead th {\n",
       "        text-align: right;\n",
       "    }\n",
       "</style>\n",
       "<table border=\"1\" class=\"dataframe\">\n",
       "  <thead>\n",
       "    <tr style=\"text-align: right;\">\n",
       "      <th></th>\n",
       "      <th>EXP_NAME</th>\n",
       "      <th>FILENAME</th>\n",
       "      <th>MEDIA</th>\n",
       "      <th>PRED_ROI</th>\n",
       "      <th>DPG</th>\n",
       "      <th>TRUE_ROI</th>\n",
       "      <th>USE_PROPHET</th>\n",
       "      <th>CALIBRATION_FACEBOOK</th>\n",
       "      <th>CALIBRATION_TV</th>\n",
       "      <th>CALIBRATION_SEARCH</th>\n",
       "      <th>SEGMENT_NAME</th>\n",
       "      <th>APE_ROI</th>\n",
       "    </tr>\n",
       "  </thead>\n",
       "  <tbody>\n",
       "    <tr>\n",
       "      <th>0</th>\n",
       "      <td>prophet_TRUE_calib_</td>\n",
       "      <td>RobynModel-2_18_10.json</td>\n",
       "      <td>Facebook</td>\n",
       "      <td>3.3975</td>\n",
       "      <td>dgp3_1000_3_01_3media</td>\n",
       "      <td>3.882383</td>\n",
       "      <td>1</td>\n",
       "      <td>0</td>\n",
       "      <td>0</td>\n",
       "      <td>0</td>\n",
       "      <td>0. None</td>\n",
       "      <td>0.124893</td>\n",
       "    </tr>\n",
       "    <tr>\n",
       "      <th>1</th>\n",
       "      <td>prophet_TRUE_calib_</td>\n",
       "      <td>RobynModel-1_67_11.json</td>\n",
       "      <td>Facebook</td>\n",
       "      <td>3.2980</td>\n",
       "      <td>dgp3_1000_3_01_3media</td>\n",
       "      <td>3.882383</td>\n",
       "      <td>1</td>\n",
       "      <td>0</td>\n",
       "      <td>0</td>\n",
       "      <td>0</td>\n",
       "      <td>0. None</td>\n",
       "      <td>0.150522</td>\n",
       "    </tr>\n",
       "    <tr>\n",
       "      <th>2</th>\n",
       "      <td>prophet_TRUE_calib_</td>\n",
       "      <td>RobynModel-1_65_5.json</td>\n",
       "      <td>Facebook</td>\n",
       "      <td>3.0087</td>\n",
       "      <td>dgp3_1000_3_01_3media</td>\n",
       "      <td>3.882383</td>\n",
       "      <td>1</td>\n",
       "      <td>0</td>\n",
       "      <td>0</td>\n",
       "      <td>0</td>\n",
       "      <td>0. None</td>\n",
       "      <td>0.225038</td>\n",
       "    </tr>\n",
       "    <tr>\n",
       "      <th>3</th>\n",
       "      <td>prophet_TRUE_calib_</td>\n",
       "      <td>RobynModel-1_62_1.json</td>\n",
       "      <td>Facebook</td>\n",
       "      <td>1.3137</td>\n",
       "      <td>dgp3_1000_3_01_3media</td>\n",
       "      <td>3.882383</td>\n",
       "      <td>1</td>\n",
       "      <td>0</td>\n",
       "      <td>0</td>\n",
       "      <td>0</td>\n",
       "      <td>0. None</td>\n",
       "      <td>0.661625</td>\n",
       "    </tr>\n",
       "    <tr>\n",
       "      <th>4</th>\n",
       "      <td>prophet_TRUE_calib_</td>\n",
       "      <td>RobynModel-1_61_13.json</td>\n",
       "      <td>Facebook</td>\n",
       "      <td>1.0402</td>\n",
       "      <td>dgp3_1000_3_01_3media</td>\n",
       "      <td>3.882383</td>\n",
       "      <td>1</td>\n",
       "      <td>0</td>\n",
       "      <td>0</td>\n",
       "      <td>0</td>\n",
       "      <td>0. None</td>\n",
       "      <td>0.732072</td>\n",
       "    </tr>\n",
       "    <tr>\n",
       "      <th>...</th>\n",
       "      <td>...</td>\n",
       "      <td>...</td>\n",
       "      <td>...</td>\n",
       "      <td>...</td>\n",
       "      <td>...</td>\n",
       "      <td>...</td>\n",
       "      <td>...</td>\n",
       "      <td>...</td>\n",
       "      <td>...</td>\n",
       "      <td>...</td>\n",
       "      <td>...</td>\n",
       "      <td>...</td>\n",
       "    </tr>\n",
       "    <tr>\n",
       "      <th>133</th>\n",
       "      <td>prophet_TRUE_calib_spend_Facebook_spend_TV</td>\n",
       "      <td>RobynModel-1_47_6.json</td>\n",
       "      <td>Search</td>\n",
       "      <td>1.6062</td>\n",
       "      <td>dgp3_1000_3_01_3media</td>\n",
       "      <td>1.006106</td>\n",
       "      <td>1</td>\n",
       "      <td>1</td>\n",
       "      <td>1</td>\n",
       "      <td>0</td>\n",
       "      <td>3. Facebook_TV</td>\n",
       "      <td>0.596453</td>\n",
       "    </tr>\n",
       "    <tr>\n",
       "      <th>134</th>\n",
       "      <td>prophet_TRUE_calib_spend_Facebook_spend_TV</td>\n",
       "      <td>RobynModel-1_55_7.json</td>\n",
       "      <td>Search</td>\n",
       "      <td>2.5309</td>\n",
       "      <td>dgp3_1000_3_01_3media</td>\n",
       "      <td>1.006106</td>\n",
       "      <td>1</td>\n",
       "      <td>1</td>\n",
       "      <td>1</td>\n",
       "      <td>0</td>\n",
       "      <td>3. Facebook_TV</td>\n",
       "      <td>1.515541</td>\n",
       "    </tr>\n",
       "    <tr>\n",
       "      <th>135</th>\n",
       "      <td>prophet_TRUE_calib_spend_Facebook_spend_TV</td>\n",
       "      <td>RobynModel-1_46_15.json</td>\n",
       "      <td>Search</td>\n",
       "      <td>1.8769</td>\n",
       "      <td>dgp3_1000_3_01_3media</td>\n",
       "      <td>1.006106</td>\n",
       "      <td>1</td>\n",
       "      <td>1</td>\n",
       "      <td>1</td>\n",
       "      <td>0</td>\n",
       "      <td>3. Facebook_TV</td>\n",
       "      <td>0.865510</td>\n",
       "    </tr>\n",
       "    <tr>\n",
       "      <th>136</th>\n",
       "      <td>prophet_TRUE_calib_spend_Facebook_spend_TV</td>\n",
       "      <td>RobynModel-1_39_7.json</td>\n",
       "      <td>Search</td>\n",
       "      <td>1.6043</td>\n",
       "      <td>dgp3_1000_3_01_3media</td>\n",
       "      <td>1.006106</td>\n",
       "      <td>1</td>\n",
       "      <td>1</td>\n",
       "      <td>1</td>\n",
       "      <td>0</td>\n",
       "      <td>3. Facebook_TV</td>\n",
       "      <td>0.594564</td>\n",
       "    </tr>\n",
       "    <tr>\n",
       "      <th>137</th>\n",
       "      <td>prophet_TRUE_calib_spend_Facebook_spend_TV</td>\n",
       "      <td>RobynModel-1_44_6.json</td>\n",
       "      <td>Search</td>\n",
       "      <td>1.5355</td>\n",
       "      <td>dgp3_1000_3_01_3media</td>\n",
       "      <td>1.006106</td>\n",
       "      <td>1</td>\n",
       "      <td>1</td>\n",
       "      <td>1</td>\n",
       "      <td>0</td>\n",
       "      <td>3. Facebook_TV</td>\n",
       "      <td>0.526182</td>\n",
       "    </tr>\n",
       "  </tbody>\n",
       "</table>\n",
       "<p>138 rows × 12 columns</p>\n",
       "</div>"
      ],
      "text/plain": [
       "                                       EXP_NAME                 FILENAME  \\\n",
       "0                           prophet_TRUE_calib_  RobynModel-2_18_10.json   \n",
       "1                           prophet_TRUE_calib_  RobynModel-1_67_11.json   \n",
       "2                           prophet_TRUE_calib_   RobynModel-1_65_5.json   \n",
       "3                           prophet_TRUE_calib_   RobynModel-1_62_1.json   \n",
       "4                           prophet_TRUE_calib_  RobynModel-1_61_13.json   \n",
       "..                                          ...                      ...   \n",
       "133  prophet_TRUE_calib_spend_Facebook_spend_TV   RobynModel-1_47_6.json   \n",
       "134  prophet_TRUE_calib_spend_Facebook_spend_TV   RobynModel-1_55_7.json   \n",
       "135  prophet_TRUE_calib_spend_Facebook_spend_TV  RobynModel-1_46_15.json   \n",
       "136  prophet_TRUE_calib_spend_Facebook_spend_TV   RobynModel-1_39_7.json   \n",
       "137  prophet_TRUE_calib_spend_Facebook_spend_TV   RobynModel-1_44_6.json   \n",
       "\n",
       "        MEDIA  PRED_ROI                    DPG  TRUE_ROI  USE_PROPHET  \\\n",
       "0    Facebook    3.3975  dgp3_1000_3_01_3media  3.882383            1   \n",
       "1    Facebook    3.2980  dgp3_1000_3_01_3media  3.882383            1   \n",
       "2    Facebook    3.0087  dgp3_1000_3_01_3media  3.882383            1   \n",
       "3    Facebook    1.3137  dgp3_1000_3_01_3media  3.882383            1   \n",
       "4    Facebook    1.0402  dgp3_1000_3_01_3media  3.882383            1   \n",
       "..        ...       ...                    ...       ...          ...   \n",
       "133    Search    1.6062  dgp3_1000_3_01_3media  1.006106            1   \n",
       "134    Search    2.5309  dgp3_1000_3_01_3media  1.006106            1   \n",
       "135    Search    1.8769  dgp3_1000_3_01_3media  1.006106            1   \n",
       "136    Search    1.6043  dgp3_1000_3_01_3media  1.006106            1   \n",
       "137    Search    1.5355  dgp3_1000_3_01_3media  1.006106            1   \n",
       "\n",
       "     CALIBRATION_FACEBOOK  CALIBRATION_TV  CALIBRATION_SEARCH    SEGMENT_NAME  \\\n",
       "0                       0               0                   0         0. None   \n",
       "1                       0               0                   0         0. None   \n",
       "2                       0               0                   0         0. None   \n",
       "3                       0               0                   0         0. None   \n",
       "4                       0               0                   0         0. None   \n",
       "..                    ...             ...                 ...             ...   \n",
       "133                     1               1                   0  3. Facebook_TV   \n",
       "134                     1               1                   0  3. Facebook_TV   \n",
       "135                     1               1                   0  3. Facebook_TV   \n",
       "136                     1               1                   0  3. Facebook_TV   \n",
       "137                     1               1                   0  3. Facebook_TV   \n",
       "\n",
       "      APE_ROI  \n",
       "0    0.124893  \n",
       "1    0.150522  \n",
       "2    0.225038  \n",
       "3    0.661625  \n",
       "4    0.732072  \n",
       "..        ...  \n",
       "133  0.596453  \n",
       "134  1.515541  \n",
       "135  0.865510  \n",
       "136  0.594564  \n",
       "137  0.526182  \n",
       "\n",
       "[138 rows x 12 columns]"
      ]
     },
     "execution_count": 158,
     "metadata": {},
     "output_type": "execute_result"
    }
   ],
   "source": [
    "df"
   ]
  },
  {
   "cell_type": "code",
   "execution_count": 159,
   "id": "covered-affect",
   "metadata": {},
   "outputs": [
    {
     "data": {
      "text/html": [
       "<div>\n",
       "<style scoped>\n",
       "    .dataframe tbody tr th:only-of-type {\n",
       "        vertical-align: middle;\n",
       "    }\n",
       "\n",
       "    .dataframe tbody tr th {\n",
       "        vertical-align: top;\n",
       "    }\n",
       "\n",
       "    .dataframe thead th {\n",
       "        text-align: right;\n",
       "    }\n",
       "</style>\n",
       "<table border=\"1\" class=\"dataframe\">\n",
       "  <thead>\n",
       "    <tr style=\"text-align: right;\">\n",
       "      <th></th>\n",
       "      <th>MEDIA</th>\n",
       "      <th>TRUE_ROI</th>\n",
       "    </tr>\n",
       "  </thead>\n",
       "  <tbody>\n",
       "    <tr>\n",
       "      <th>0</th>\n",
       "      <td>Facebook</td>\n",
       "      <td>3.882383</td>\n",
       "    </tr>\n",
       "    <tr>\n",
       "      <th>46</th>\n",
       "      <td>TV</td>\n",
       "      <td>1.830050</td>\n",
       "    </tr>\n",
       "    <tr>\n",
       "      <th>92</th>\n",
       "      <td>Search</td>\n",
       "      <td>1.006106</td>\n",
       "    </tr>\n",
       "  </tbody>\n",
       "</table>\n",
       "</div>"
      ],
      "text/plain": [
       "       MEDIA  TRUE_ROI\n",
       "0   Facebook  3.882383\n",
       "46        TV  1.830050\n",
       "92    Search  1.006106"
      ]
     },
     "execution_count": 159,
     "metadata": {},
     "output_type": "execute_result"
    }
   ],
   "source": [
    "df[['MEDIA', 'TRUE_ROI']].drop_duplicates()"
   ]
  },
  {
   "cell_type": "code",
   "execution_count": 160,
   "id": "offensive-transport",
   "metadata": {},
   "outputs": [],
   "source": [
    "def ape(pred, true):\n",
    "    return abs((pred - true) / true)"
   ]
  },
  {
   "cell_type": "code",
   "execution_count": 161,
   "id": "bigger-blake",
   "metadata": {},
   "outputs": [],
   "source": [
    "df['APE_ROI'] = ape(df['PRED_ROI'], df['TRUE_ROI'])"
   ]
  },
  {
   "cell_type": "code",
   "execution_count": 162,
   "id": "photographic-retrieval",
   "metadata": {},
   "outputs": [],
   "source": [
    "cp = {'Facebook': sns.color_palette()[0], 'TV': sns.color_palette()[1], 'Search': sns.color_palette()[2]}"
   ]
  },
  {
   "cell_type": "code",
   "execution_count": 165,
   "id": "banned-mexican",
   "metadata": {},
   "outputs": [
    {
     "data": {
      "image/png": "[encoded data removed]",
      "text/plain": [
       "<Figure size 864x576 with 1 Axes>"
      ]
     },
     "metadata": {
      "needs_background": "light"
     },
     "output_type": "display_data"
    }
   ],
   "source": [
    "for use_prophet in [1]:\n",
    "    plt.figure(figsize=(12, 8))\n",
    "    sns.boxplot(x = \"SEGMENT_NAME\", y = \"APE_ROI\", data = df[df['USE_PROPHET'] == use_prophet].sort_values('SEGMENT_NAME'), hue='MEDIA', palette=cp)\n",
    "    plt.title(f'{dpg_name}: USE_PROPHET={use_prophet}', fontsize=18)\n",
    "    plt.xticks(rotation=10)\n",
    "    plt.grid()"
   ]
  },
  {
   "cell_type": "code",
   "execution_count": 166,
   "id": "composite-tribute",
   "metadata": {},
   "outputs": [],
   "source": [
    "df.to_csv(f'{dpg_name}.csv', index=False)"
   ]
  },
  {
   "cell_type": "code",
   "execution_count": null,
   "id": "confident-resistance",
   "metadata": {},
   "outputs": [],
   "source": []
  }
 ],
 "metadata": {
  "kernelspec": {
   "display_name": "Python 3",
   "language": "python",
   "name": "python3"
  },
  "language_info": {
   "codemirror_mode": {
    "name": "ipython",
    "version": 3
   },
   "file_extension": ".py",
   "mimetype": "text/x-python",
   "name": "python",
   "nbconvert_exporter": "python",
   "pygments_lexer": "ipython3",
   "version": "3.8.5"
  }
 },
 "nbformat": 4,
 "nbformat_minor": 5
}
