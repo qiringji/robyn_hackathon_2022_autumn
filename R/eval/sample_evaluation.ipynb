{
 "cells": [
  {
   "cell_type": "code",
   "execution_count": 179,
   "id": "controlling-proportion",
   "metadata": {},
   "outputs": [],
   "source": [
    "import os\n",
    "import json\n",
    "from glob import glob\n",
    "\n",
    "import pandas as pd\n",
    "import numpy as np\n",
    "import seaborn as sns\n",
    "import matplotlib.pyplot as plt"
   ]
  },
  {
   "cell_type": "code",
   "execution_count": 180,
   "id": "recognized-waters",
   "metadata": {},
   "outputs": [],
   "source": [
    "dpg_name = \"dgp4\"\n",
    "root_dir = f\"/Users/s11616/Desktop/{dpg_name}\""
   ]
  },
  {
   "cell_type": "code",
   "execution_count": 188,
   "id": "appropriate-theorem",
   "metadata": {},
   "outputs": [],
   "source": [
    "rows = []\n",
    "for exp_name in os.listdir(root_dir):\n",
    "    jsonfile_paths = glob(os.path.join(root_dir, exp_name, '*.json'))\n",
    "    \n",
    "    for jsonfile_path in jsonfile_paths:\n",
    "        \n",
    "        jsonfile_name = jsonfile_path.split('/')[-1]\n",
    "        if jsonfile_name == 'RobynModel-inputs.json':\n",
    "            continue\n",
    "        \n",
    "        with open(jsonfile_path) as f:\n",
    "            dic = json.load(f)\n",
    "        \n",
    "        for i, vals in enumerate(dic['ExportedModel']['summary']):\n",
    "            if vals['variable'] in ['(Intercept)', 'trend', 'season', 'holiday'] :\n",
    "                continue\n",
    "            \n",
    "            rows.append([exp_name, jsonfile_name, vals['variable'].split('_')[-1], vals['performance']])"
   ]
  },
  {
   "cell_type": "code",
   "execution_count": 191,
   "id": "executed-armenia",
   "metadata": {},
   "outputs": [],
   "source": [
    "df = pd.DataFrame(rows)\n",
    "df.columns = ['EXP_NAME', 'FILENAME', 'MEDIA', 'PRED_ROI']\n",
    "\n",
    "df['DPG'] = dpg_name"
   ]
  },
  {
   "cell_type": "code",
   "execution_count": 192,
   "id": "understood-psychology",
   "metadata": {},
   "outputs": [],
   "source": [
    "df_true = pd.read_csv(os.path.join(root_dir, os.listdir(root_dir)[1], 'true_roi.csv'))"
   ]
  },
  {
   "cell_type": "code",
   "execution_count": 193,
   "id": "korean-great",
   "metadata": {},
   "outputs": [
    {
     "data": {
      "text/html": [
       "<div>\n",
       "<style scoped>\n",
       "    .dataframe tbody tr th:only-of-type {\n",
       "        vertical-align: middle;\n",
       "    }\n",
       "\n",
       "    .dataframe tbody tr th {\n",
       "        vertical-align: top;\n",
       "    }\n",
       "\n",
       "    .dataframe thead th {\n",
       "        text-align: right;\n",
       "    }\n",
       "</style>\n",
       "<table border=\"1\" class=\"dataframe\">\n",
       "  <thead>\n",
       "    <tr style=\"text-align: right;\">\n",
       "      <th></th>\n",
       "      <th>x</th>\n",
       "    </tr>\n",
       "  </thead>\n",
       "  <tbody>\n",
       "    <tr>\n",
       "      <th>0</th>\n",
       "      <td>roi of Facebook is: 1.91756896992852</td>\n",
       "    </tr>\n",
       "    <tr>\n",
       "      <th>1</th>\n",
       "      <td>roi of TV is: 0.477520179937832</td>\n",
       "    </tr>\n",
       "  </tbody>\n",
       "</table>\n",
       "</div>"
      ],
      "text/plain": [
       "                                      x\n",
       "0  roi of Facebook is: 1.91756896992852\n",
       "1       roi of TV is: 0.477520179937832"
      ]
     },
     "execution_count": 193,
     "metadata": {},
     "output_type": "execute_result"
    }
   ],
   "source": [
    "df_true"
   ]
  },
  {
   "cell_type": "code",
   "execution_count": 194,
   "id": "italic-actress",
   "metadata": {},
   "outputs": [],
   "source": [
    "# Glue Code\n",
    "_df_true = pd.DataFrame({'MEDIA': ['Facebook', 'TV'], 'TRUE_ROI': [1.91756896992852, 0.475175414894113]})"
   ]
  },
  {
   "cell_type": "code",
   "execution_count": 195,
   "id": "closing-funds",
   "metadata": {},
   "outputs": [],
   "source": [
    "df = pd.merge(df, _df_true, on='MEDIA')"
   ]
  },
  {
   "cell_type": "code",
   "execution_count": 196,
   "id": "black-continent",
   "metadata": {},
   "outputs": [
    {
     "data": {
      "text/html": [
       "<div>\n",
       "<style scoped>\n",
       "    .dataframe tbody tr th:only-of-type {\n",
       "        vertical-align: middle;\n",
       "    }\n",
       "\n",
       "    .dataframe tbody tr th {\n",
       "        vertical-align: top;\n",
       "    }\n",
       "\n",
       "    .dataframe thead th {\n",
       "        text-align: right;\n",
       "    }\n",
       "</style>\n",
       "<table border=\"1\" class=\"dataframe\">\n",
       "  <thead>\n",
       "    <tr style=\"text-align: right;\">\n",
       "      <th></th>\n",
       "      <th>EXP_NAME</th>\n",
       "      <th>FILENAME</th>\n",
       "      <th>MEDIA</th>\n",
       "      <th>PRED_ROI</th>\n",
       "      <th>DPG</th>\n",
       "      <th>TRUE_ROI</th>\n",
       "    </tr>\n",
       "  </thead>\n",
       "  <tbody>\n",
       "    <tr>\n",
       "      <th>0</th>\n",
       "      <td>prophet_TRUE_calib_</td>\n",
       "      <td>RobynModel-1_52_2.json</td>\n",
       "      <td>Facebook</td>\n",
       "      <td>4.5341</td>\n",
       "      <td>dgp4</td>\n",
       "      <td>1.917569</td>\n",
       "    </tr>\n",
       "    <tr>\n",
       "      <th>1</th>\n",
       "      <td>prophet_TRUE_calib_</td>\n",
       "      <td>RobynModel-1_48_13.json</td>\n",
       "      <td>Facebook</td>\n",
       "      <td>4.9029</td>\n",
       "      <td>dgp4</td>\n",
       "      <td>1.917569</td>\n",
       "    </tr>\n",
       "    <tr>\n",
       "      <th>2</th>\n",
       "      <td>prophet_TRUE_calib_</td>\n",
       "      <td>RobynModel-1_63_8.json</td>\n",
       "      <td>Facebook</td>\n",
       "      <td>4.9698</td>\n",
       "      <td>dgp4</td>\n",
       "      <td>1.917569</td>\n",
       "    </tr>\n",
       "    <tr>\n",
       "      <th>3</th>\n",
       "      <td>prophet_TRUE_calib_</td>\n",
       "      <td>RobynModel-1_56_12.json</td>\n",
       "      <td>Facebook</td>\n",
       "      <td>4.1458</td>\n",
       "      <td>dgp4</td>\n",
       "      <td>1.917569</td>\n",
       "    </tr>\n",
       "    <tr>\n",
       "      <th>4</th>\n",
       "      <td>prophet_TRUE_calib_</td>\n",
       "      <td>RobynModel-1_45_4.json</td>\n",
       "      <td>Facebook</td>\n",
       "      <td>4.6681</td>\n",
       "      <td>dgp4</td>\n",
       "      <td>1.917569</td>\n",
       "    </tr>\n",
       "    <tr>\n",
       "      <th>...</th>\n",
       "      <td>...</td>\n",
       "      <td>...</td>\n",
       "      <td>...</td>\n",
       "      <td>...</td>\n",
       "      <td>...</td>\n",
       "      <td>...</td>\n",
       "    </tr>\n",
       "    <tr>\n",
       "      <th>97</th>\n",
       "      <td>prophet_FALSE_calib_spend_TV</td>\n",
       "      <td>RobynModel-1_53_5.json</td>\n",
       "      <td>TV</td>\n",
       "      <td>2.0713</td>\n",
       "      <td>dgp4</td>\n",
       "      <td>0.475175</td>\n",
       "    </tr>\n",
       "    <tr>\n",
       "      <th>98</th>\n",
       "      <td>prophet_FALSE_calib_spend_TV</td>\n",
       "      <td>RobynModel-1_61_2.json</td>\n",
       "      <td>TV</td>\n",
       "      <td>1.6515</td>\n",
       "      <td>dgp4</td>\n",
       "      <td>0.475175</td>\n",
       "    </tr>\n",
       "    <tr>\n",
       "      <th>99</th>\n",
       "      <td>prophet_FALSE_calib_spend_TV</td>\n",
       "      <td>RobynModel-1_65_10.json</td>\n",
       "      <td>TV</td>\n",
       "      <td>1.5221</td>\n",
       "      <td>dgp4</td>\n",
       "      <td>0.475175</td>\n",
       "    </tr>\n",
       "    <tr>\n",
       "      <th>100</th>\n",
       "      <td>prophet_FALSE_calib_spend_TV</td>\n",
       "      <td>RobynModel-3_48_10.json</td>\n",
       "      <td>TV</td>\n",
       "      <td>1.3946</td>\n",
       "      <td>dgp4</td>\n",
       "      <td>0.475175</td>\n",
       "    </tr>\n",
       "    <tr>\n",
       "      <th>101</th>\n",
       "      <td>prophet_FALSE_calib_spend_TV</td>\n",
       "      <td>RobynModel-1_45_8.json</td>\n",
       "      <td>TV</td>\n",
       "      <td>1.7826</td>\n",
       "      <td>dgp4</td>\n",
       "      <td>0.475175</td>\n",
       "    </tr>\n",
       "  </tbody>\n",
       "</table>\n",
       "<p>102 rows × 6 columns</p>\n",
       "</div>"
      ],
      "text/plain": [
       "                         EXP_NAME                 FILENAME     MEDIA  \\\n",
       "0             prophet_TRUE_calib_   RobynModel-1_52_2.json  Facebook   \n",
       "1             prophet_TRUE_calib_  RobynModel-1_48_13.json  Facebook   \n",
       "2             prophet_TRUE_calib_   RobynModel-1_63_8.json  Facebook   \n",
       "3             prophet_TRUE_calib_  RobynModel-1_56_12.json  Facebook   \n",
       "4             prophet_TRUE_calib_   RobynModel-1_45_4.json  Facebook   \n",
       "..                            ...                      ...       ...   \n",
       "97   prophet_FALSE_calib_spend_TV   RobynModel-1_53_5.json        TV   \n",
       "98   prophet_FALSE_calib_spend_TV   RobynModel-1_61_2.json        TV   \n",
       "99   prophet_FALSE_calib_spend_TV  RobynModel-1_65_10.json        TV   \n",
       "100  prophet_FALSE_calib_spend_TV  RobynModel-3_48_10.json        TV   \n",
       "101  prophet_FALSE_calib_spend_TV   RobynModel-1_45_8.json        TV   \n",
       "\n",
       "     PRED_ROI   DPG  TRUE_ROI  \n",
       "0      4.5341  dgp4  1.917569  \n",
       "1      4.9029  dgp4  1.917569  \n",
       "2      4.9698  dgp4  1.917569  \n",
       "3      4.1458  dgp4  1.917569  \n",
       "4      4.6681  dgp4  1.917569  \n",
       "..        ...   ...       ...  \n",
       "97     2.0713  dgp4  0.475175  \n",
       "98     1.6515  dgp4  0.475175  \n",
       "99     1.5221  dgp4  0.475175  \n",
       "100    1.3946  dgp4  0.475175  \n",
       "101    1.7826  dgp4  0.475175  \n",
       "\n",
       "[102 rows x 6 columns]"
      ]
     },
     "execution_count": 196,
     "metadata": {},
     "output_type": "execute_result"
    }
   ],
   "source": [
    "df"
   ]
  },
  {
   "cell_type": "code",
   "execution_count": 197,
   "id": "offensive-transport",
   "metadata": {},
   "outputs": [],
   "source": [
    "def ape(pred, true):\n",
    "    return abs((pred - true) / true)"
   ]
  },
  {
   "cell_type": "code",
   "execution_count": 198,
   "id": "bigger-blake",
   "metadata": {},
   "outputs": [],
   "source": [
    "df['APE_ROI'] = ape(df['PRED_ROI'], df['TRUE_ROI'])"
   ]
  },
  {
   "cell_type": "code",
   "execution_count": 201,
   "id": "banned-mexican",
   "metadata": {},
   "outputs": [
    {
     "data": {
      "image/png": "[encoded data removed]",
      "text/plain": [
       "<Figure size 864x576 with 1 Axes>"
      ]
     },
     "metadata": {
      "needs_background": "light"
     },
     "output_type": "display_data"
    }
   ],
   "source": [
    "plt.figure(figsize=(12, 8))\n",
    "sns.boxplot(x = \"EXP_NAME\", y = \"APE_ROI\", data = df.sort_values('EXP_NAME'), hue='MEDIA')\n",
    "plt.xticks(rotation=20)\n",
    "plt.grid()"
   ]
  },
  {
   "cell_type": "code",
   "execution_count": null,
   "id": "composite-tribute",
   "metadata": {},
   "outputs": [],
   "source": []
  }
 ],
 "metadata": {
  "kernelspec": {
   "display_name": "Python 3",
   "language": "python",
   "name": "python3"
  },
  "language_info": {
   "codemirror_mode": {
    "name": "ipython",
    "version": 3
   },
   "file_extension": ".py",
   "mimetype": "text/x-python",
   "name": "python",
   "nbconvert_exporter": "python",
   "pygments_lexer": "ipython3",
   "version": "3.8.5"
  }
 },
 "nbformat": 4,
 "nbformat_minor": 5
}
